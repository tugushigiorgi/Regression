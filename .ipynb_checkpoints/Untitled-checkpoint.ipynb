{
 "cells": [
  {
   "cell_type": "code",
   "execution_count": 5,
   "id": "30643fe5",
   "metadata": {},
   "outputs": [],
   "source": [
    "import numpy as np\n",
    "import pandas as pd\n",
    "from sklearn.linear_model import LinearRegression\n",
    "import matplotlib.pyplot as plt\n",
    "from sklearn.preprocessing import LabelEncoder \n",
    "from sklearn.model_selection import train_test_split\n",
    "from sklearn import metrics\n",
    "from sklearn.tree import DecisionTreeClassifier\n",
    "from sklearn.linear_model import LogisticRegression\n",
    "from sklearn.metrics import accuracy_score, classification_report, confusion_matrix\n",
    "from sklearn.tree import DecisionTreeRegressor\n",
    "from sklearn.impute import SimpleImputer\n",
    "from sklearn.metrics import mean_squared_error, r2_score\n",
    " \n",
    "import warnings\n",
    "warnings.filterwarnings(\"ignore\")"
   ]
  },
  {
   "cell_type": "code",
   "execution_count": 9,
   "id": "83a1aabb",
   "metadata": {},
   "outputs": [],
   "source": [
    "#https://www.kaggle.com/datasets/rishabhkarn/used-car-dataset?resource=download\n",
    "data =pd.read_csv(\"Used Car Dataset.csv\")\n",
    " \n",
    " "
   ]
  },
  {
   "cell_type": "code",
   "execution_count": 10,
   "id": "06d98ac6",
   "metadata": {},
   "outputs": [
    {
     "data": {
      "text/plain": [
       "Index(['Unnamed: 0', 'car_name', 'registration_year', 'insurance_validity',\n",
       "       'fuel_type', 'seats', 'kms_driven', 'ownsership', 'transmission',\n",
       "       'manufacturing_year', 'mileage(kmpl)', 'engine(cc)', 'max_power(bhp)',\n",
       "       'torque(Nm)', 'price(in lakhs)'],\n",
       "      dtype='object')"
      ]
     },
     "execution_count": 10,
     "metadata": {},
     "output_type": "execute_result"
    }
   ],
   "source": [
    "data.columns\n",
    "    \n",
    "    \n",
    "# car_name\n",
    "# registration_year\n",
    "# insurance_validity\n",
    "# fuel_type\n",
    "# seats\n",
    "# kms_driven\n",
    "# ownership\n",
    "# transmission\n",
    "# manufacturing_year\n",
    "# mileage(kmpl)\n",
    "# engine(cc)\n",
    "# max_power(bhp)\n",
    "# torque(Nm)\n",
    "# price(in lakhs) - ინდური ფულის ერთეულშია  "
   ]
  },
  {
   "cell_type": "code",
   "execution_count": 18,
   "id": "9c4eda00",
   "metadata": {},
   "outputs": [
    {
     "name": "stdout",
     "output_type": "stream",
     "text": [
      "Coefficient of determination: -0.00\n",
      "[[ 81.17839606]\n",
      " [105.26814058]\n",
      " [132.64285025]]\n"
     ]
    }
   ],
   "source": [
    " \n",
    "#1 \n",
    "\n",
    " \n",
    "#ვაჩვენოთ თუ რა დამოკიდებულებაშია მანქანის გარბენი მის ფასთან  \n",
    "X = data['kms_driven'].values.reshape(-1, 1)\n",
    "y = data['price(in lakhs)'].values.reshape(-1, 1)\n",
    "# ვყოფთ სატესტო და სატრენინგო მონცამეებად 30 პროცენთით \n",
    "X_train, X_test, y_train, y_test = train_test_split(X, y, test_size=0.3, random_state=20)\n",
    "\n",
    "# ზოგიერთი ველი ცარიელია და ვავსებთ მას SimgpeImputer ფუნქციის შესაბამისი ველის საშუალოთი\n",
    "#რათა ავიცილოთ სამომავლო ერრორები\n",
    "imputer = SimpleImputer(strategy='mean')\n",
    "\n",
    "X_train = imputer.fit_transform(X_train)\n",
    "X_test = imputer.transform(X_test)\n",
    "\n",
    "# ვქმნით რეგრესიის მოდელს და გადავცემთ შესაამის მონაცემებს\n",
    " \n",
    "regressor = LinearRegression()\n",
    "regressor.fit(X_train, y_train)\n",
    "\n",
    "# \n",
    "y_pred = regressor.predict(X_test)\n",
    "\n",
    "# გამოვითვლით მოდელის ეფექტურობას\n",
    " \n",
    "print('Coefficient of determination: %.2f'\n",
    "      % r2_score(y_test, y_pred))\n",
    "\n",
    "# დავტესტოთ ახალი მონაცემებზე , სადაც გადავცემთ მანქანის გარბენს კილომეტრებში (3)\n",
    "new_data = [[56000], [100000], [150000]]\n",
    "new_data_pred = regressor.predict(new_data)\n",
    "print(new_data_pred)\n"
   ]
  },
  {
   "cell_type": "code",
   "execution_count": 17,
   "id": "bce0c5b4",
   "metadata": {},
   "outputs": [
    {
     "name": "stdout",
     "output_type": "stream",
     "text": [
      "Coefficient of determination: -0.00\n",
      "[ 36.4068511   76.22936942 115.83490685]\n"
     ]
    }
   ],
   "source": [
    "#2\n",
    "#მრავალ ცვლადიანი რეგრესიის მოდელისთვის ვიყენებ შემდეგ სვეტებს რათა ვნახო რა გავლენას ახდენს ფასთან \n",
    "X_columns = ['seats', 'kms_driven', 'mileage(kmpl)', 'engine(cc)', 'max_power(bhp)', 'torque(Nm)']\n",
    "X = df[X_columns]\n",
    "y = df['price(in lakhs)'] #ფასი ინდურ ერთეულშია \n",
    "\n",
    "# ვყოფ მონაცემებს 30 და 70 პროცენტით სატესტოდ და სატრენინგოდ\n",
    "X_train, X_test, y_train, y_test = train_test_split(X, y, test_size=0.3, random_state=20)\n",
    "\n",
    "# წინა მაგალითის მსგავსად ვავსებ ცარიელ ველებს მისი სვეტის საშუალოთი\n",
    "imputer = SimpleImputer(strategy='mean')\n",
    "X_train = imputer.fit_transform(X_train)\n",
    "X_test = imputer.transform(X_test)\n",
    "\n",
    "# შემოგვაქვს წრფივი რეგრესიის ობიექტი\n",
    "regressor = LinearRegression()\n",
    "regressor.fit(X_train, y_train)\n",
    "\n",
    "#  \n",
    "y_pred = regressor.predict(X_test)\n",
    "\n",
    "# ვნახოთ რამდენად ეფექტურია მოდელი \n",
    " \n",
    "print('Coefficient of determination: %.2f'\n",
    "      % r2_score(y_test, y_pred))\n",
    "\n",
    "# ახალ მონაცემზე დასატესტად გადავცემ ზემოხსენებულ დამოუკიდებელ ცვლადის მნიშვნელობებს\n",
    "new_data = [[4, 50000, 20, 1000, 80, 120], [5, 100000, 18, 1200, 90, 150], [7, 150000, 15, 1500, 100, 180]]\n",
    "new_data_pred = regressor.predict(new_data)\n",
    "print(new_data_pred)\n",
    " \n",
    "\n",
    "\n",
    "\n",
    " "
   ]
  },
  {
   "cell_type": "code",
   "execution_count": 19,
   "id": "fd2ef5f0",
   "metadata": {},
   "outputs": [
    {
     "name": "stdout",
     "output_type": "stream",
     "text": [
      "Model Efficiency : 0.46278407114867726\n",
      "Predicted output for new data: [38.24724138  8.438       5.57      ]\n"
     ]
    }
   ],
   "source": [
    "#3\n",
    "#გადაწყვეტილების ხის რეგრესიის მოდელი\n",
    "#ამ ამოცანისთვის ვიყენებ შემდეგ სვეტებს :\n",
    "X = data[['mileage(kmpl)']]\n",
    "y = data['price(in lakhs)']\n",
    "\n",
    "# ტრადიციულად ვყოფთ მონაცემებს ,(ამ შემთხვევაში 40 პროცენტით და 60)\n",
    "X_train, X_test, y_train, y_test = train_test_split(X, y, test_size=0.4, random_state=30)\n",
    "\n",
    "# შემოგვაქვს გადაწყვეტილების ხის რეგრესიის ობიექტი\n",
    "model = DecisionTreeRegressor()\n",
    "\n",
    "# გადავცემთ სატრენინგო მონაცემებს\n",
    "model.fit(X_train, y_train)\n",
    "\n",
    "# \n",
    "y_pred = model.predict(X_test)\n",
    "\n",
    "# გამოვთვალოთ მოდელის ეფექტურობა \n",
    "r_squared = metrics.r2_score(y_test, y_pred)\n",
    "\n",
    "# Print\n",
    "print(f\"Model Efficiency : {r_squared}\")\n",
    "\n",
    "# დავტესტოთ ახალ მონაცემებზე\n",
    "new_data = [[10], [20], [30]]\n",
    "new_data_pred = model.predict(new_data)\n",
    "print(f\"Predicted output for new data: {new_data_pred}\")\n",
    " \n"
   ]
  },
  {
   "cell_type": "code",
   "execution_count": 14,
   "id": "85c8cb39",
   "metadata": {},
   "outputs": [
    {
     "name": "stdout",
     "output_type": "stream",
     "text": [
      "Accuracy: 0.003215434083601286\n",
      "New predictions: [0 0]\n"
     ]
    }
   ],
   "source": [
    " \n",
    "#4\n",
    "#ლოგისტიკური რეგრესიის მოდელი\n",
    "#ამ ამოცანისთვის რათა მოვახდინოთ კლასიფიკაცია შემომაქვს ახალი სვეტი affordable რათა გავიყვანო \n",
    "#მისი ფასიდან გამომდინარე ხელმისაწვდომი ფასი აქვს თუ არა \n",
    "\n",
    "data['affordable'] = (data['price(in lakhs)'] <= 10000).astype(int)\n",
    "\n",
    "#ვიღებ დამოუკიდებელ შემდეგ 3 ცვლადს \n",
    "X_columns = ['mileage(kmpl)', 'engine(cc)', 'max_power(bhp)']  \n",
    "X = data[X_columns]\n",
    "y = data['affordable']\n",
    "\n",
    "# ტრადიციულად ვყოფთ მონაცემებს \n",
    "X_train, X_test, y_train, y_test = train_test_split(X, y, test_size=0.2, random_state=42)\n",
    "#ცარიელ ველებს ვავსებთ შესაბამისი სვეტის საშუალოთი \n",
    "X_train = imputer.fit_transform(X_train)\n",
    "\n",
    "X_test = imputer.transform(X_test)\n",
    "\n",
    "\n",
    "# ვქმინით ლოგისტიკური რეგრესიის ობიექტს\n",
    "model = LogisticRegression()\n",
    "\n",
    "# \n",
    "model.fit(X_train, y_train)\n",
    "\n",
    "#  \n",
    "y_pred = model.predict(X_test)\n",
    "\n",
    "# გამოვიანგარიშოთ მოდელის ეფექტურობა\n",
    "accuracy = accuracy_score(y_test, y_pred)\n",
    "print(f\"Accuracy: {accuracy}\")\n",
    "#ახალი მონაცემებზე დასატესტად გადავცემთ ახალ დამოუკიდებელი ცვლადის მნიშვნელობებს\n",
    "new_data = [[550, 1000, 80], [18, 800, 70]]   \n",
    "new_predictions = model.predict(new_data)\n",
    "print(f\"New predictions: {new_predictions}\")\n",
    " "
   ]
  },
  {
   "cell_type": "code",
   "execution_count": 15,
   "id": "ecf0822b",
   "metadata": {},
   "outputs": [
    {
     "name": "stdout",
     "output_type": "stream",
     "text": [
      "Accuracy: 0.9389067524115756\n",
      "New predictions: [1 1]\n"
     ]
    }
   ],
   "source": [
    "#5\n",
    "#გადაწყვეტილების ხის კლასიფიკაციის მოდელი\n",
    "#ისევ კლასიფიკაციისთვის შემომაქვს ანალოგური სვეტი (Affordable )\n",
    " \n",
    "data['affordable'] = (data['price(in lakhs)'] <= 10).astype(int)\n",
    "\n",
    "#ვიღებ დამოუკიდებელ შემდეგ 3 ცვლადს \n",
    "X_columns = ['mileage(kmpl)', 'engine(cc)', 'max_power(bhp)']  \n",
    "X = data[X_columns]\n",
    "y = data['affordable']\n",
    "\n",
    "#ვყოფთ მონაცემებს\n",
    "X_train, X_test, y_train, y_test = train_test_split(X, y, test_size=0.2, random_state=42)\n",
    "\n",
    "# შემოგვაქვს ობიექტი\n",
    "model = DecisionTreeClassifier()\n",
    "\n",
    " \n",
    "model.fit(X_train, y_train)\n",
    "\n",
    " \n",
    "y_pred = model.predict(X_test)\n",
    "\n",
    "#ვიანგარიშებთ მოდელის ეფექტურობას\n",
    "accuracy = accuracy_score(y_test, y_pred)\n",
    "print(f\"Accuracy: {accuracy}\")\n",
    "\n",
    " \n",
    "#გადავცეთ ახალი მონაცემები დამოუკიდებელი ცვლადების                                                                                                                           \n",
    "new_data = [[132, 900, 800], [138, 700, 990]]   \n",
    "new_predictions = model.predict(new_data)\n",
    "print(f\"New predictions: {new_predictions}\")"
   ]
  },
  {
   "cell_type": "code",
   "execution_count": null,
   "id": "f06ec709",
   "metadata": {},
   "outputs": [],
   "source": []
  },
  {
   "cell_type": "code",
   "execution_count": null,
   "id": "eed6791d",
   "metadata": {},
   "outputs": [],
   "source": []
  },
  {
   "cell_type": "code",
   "execution_count": null,
   "id": "c924f17d",
   "metadata": {},
   "outputs": [],
   "source": []
  }
 ],
 "metadata": {
  "kernelspec": {
   "display_name": "Python 3 (ipykernel)",
   "language": "python",
   "name": "python3"
  },
  "language_info": {
   "codemirror_mode": {
    "name": "ipython",
    "version": 3
   },
   "file_extension": ".py",
   "mimetype": "text/x-python",
   "name": "python",
   "nbconvert_exporter": "python",
   "pygments_lexer": "ipython3",
   "version": "3.11.5"
  }
 },
 "nbformat": 4,
 "nbformat_minor": 5
}
